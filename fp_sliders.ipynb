{
 "cells": [
  {
   "cell_type": "markdown",
   "metadata": {},
   "source": [
    "# #Display the profiles of Febry-Perot interferometer filter\n",
    "\n",
    "#use interactive sliders\n"
   ]
  },
  {
   "cell_type": "code",
   "execution_count": 14,
   "metadata": {},
   "outputs": [],
   "source": [
    "import numpy as np\n",
    "import matplotlib.pyplot as pl\n",
    "import ipywidgets as wg\n",
    "from IPython.display import display\n",
    "%matplotlib inline\n",
    "\n",
    "def myplot(R,n,d,ww):\n",
    "    #FP1\n",
    "    #####\n",
    "    #d= 0.226    # spacing (mm)\n",
    "    R = R       # reflectivity\n",
    "\n",
    "    theta = 0.0   # angle of incidence\n",
    "    vt = 0\n",
    "    n0 = n\n",
    "    lamb = np.linspace(ww[0],ww[1],5001)\n",
    "    fp1, shift = fp_profile( lamb, d, R, n0, vt, theta)\n",
    "    pl.Figure( figsize=(10, 10), dpi=100)\n",
    "    pl.plot(lamb-6173,fp1)\n",
    "    pl.xlabel('$\\lambda$ - 6173 [$\\AA$]')\n",
    "    pl.ylabel('Normalised intensity')\n",
    "    pl.show()\n",
    "    \n",
    "#profile of a single etalon\n",
    "###########################\n",
    "def fp_profile(lamb, d, R, n0, V, theta):\n",
    "    print(d, R, n0, V, theta)\n",
    "    lam = lamb\n",
    "    lam0 = 6173.34\n",
    "    F = (4.*R)/(1.0-R)**2.      \n",
    "    finess = np.pi*np.sqrt(F)*0.5\n",
    "\n",
    "    r13 = 5.2                   #pm/v\n",
    "    E = V/(d)                     #electric field\n",
    "    n = n0+0.5*n0**3.*E*r13*1e-6   #change in n0\n",
    "\n",
    "    tmp = 2*n*d*np.cos(theta)          #phase\n",
    "\n",
    "    fsr = lam0**2/(tmp)                #free spectral range (FSR)    \n",
    "    fsr = fsr*1.e-7                   #FSR (A)\n",
    "\n",
    "    fwhm = fsr/finess                 #fullwidth half maxima\n",
    "\n",
    "    delt = (2.*np.pi)*tmp\n",
    "\n",
    "    delt = (delt*1.e7)/(lam)\n",
    "\n",
    "    denom = (1.+ F*(np.sin(delt/2.))**2.)\n",
    "    trans = 1./denom\n",
    "    print('FSR, FWHM, Finesse :', fsr,fwhm,finess)\n",
    "\n",
    "    shift=0.5*(n0**2)*E*r13*1e-6*lam0\n",
    "    return trans, shift\n",
    "#########################\n"
   ]
  },
  {
   "cell_type": "code",
   "execution_count": 15,
   "metadata": {},
   "outputs": [
    {
     "data": {
      "application/vnd.jupyter.widget-view+json": {
       "model_id": "d4f59d75bc1544879fce0920da1b04a4",
       "version_major": 2,
       "version_minor": 0
      },
      "text/plain": [
       "interactive(children=(FloatSlider(value=0.7, description='R', max=0.99, min=0.01, step=0.01), FloatSlider(valu…"
      ]
     },
     "metadata": {},
     "output_type": "display_data"
    },
    {
     "data": {
      "text/plain": [
       "<function __main__.myplot(R, n, d, ww)>"
      ]
     },
     "execution_count": 15,
     "metadata": {},
     "output_type": "execute_result"
    }
   ],
   "source": [
    "\n",
    "\n",
    "r_sld = wg.FloatSlider(value=0.7,min=0.01,max=0.99,step=0.01,description='R')\n",
    "n_sld = wg.FloatSlider(value=2.2,min=1,max=3,step=0.001,description = 'n')\n",
    "d_sld = wg.FloatSlider(value=0.226,min=0.2,max=0.4,step=0.001,description = 'D')\n",
    "ww_sld = wg.IntRangeSlider(value=[6160,6185],min=6150,max=6200,step=5,description = '$\\lambda$ Range [A]')\n",
    "\n",
    "\n",
    "wg.interact(myplot,R=r_sld,n=n_sld,d=d_sld,ww =ww_sld )\n"
   ]
  }
 ],
 "metadata": {
  "kernelspec": {
   "display_name": "Python 3",
   "language": "python",
   "name": "python3"
  },
  "language_info": {
   "codemirror_mode": {
    "name": "ipython",
    "version": 3
   },
   "file_extension": ".py",
   "mimetype": "text/x-python",
   "name": "python",
   "nbconvert_exporter": "python",
   "pygments_lexer": "ipython3",
   "version": "3.6.5"
  }
 },
 "nbformat": 4,
 "nbformat_minor": 2
}
